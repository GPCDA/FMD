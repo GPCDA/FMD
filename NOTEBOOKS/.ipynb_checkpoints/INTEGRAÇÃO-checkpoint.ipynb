{
 "cells": [
  {
   "cell_type": "code",
   "execution_count": 1,
   "id": "2ecd5e05",
   "metadata": {},
   "outputs": [
    {
     "name": "stdout",
     "output_type": "stream",
     "text": [
      "Requirement already satisfied: requests in /Users/roberto/anaconda3/lib/python3.10/site-packages (2.31.0)\r\n",
      "Requirement already satisfied: charset-normalizer<4,>=2 in /Users/roberto/anaconda3/lib/python3.10/site-packages (from requests) (2.0.4)\r\n",
      "Requirement already satisfied: idna<4,>=2.5 in /Users/roberto/anaconda3/lib/python3.10/site-packages (from requests) (3.4)\r\n",
      "Requirement already satisfied: certifi>=2017.4.17 in /Users/roberto/anaconda3/lib/python3.10/site-packages (from requests) (2023.7.22)\r\n",
      "Requirement already satisfied: urllib3<3,>=1.21.1 in /Users/roberto/anaconda3/lib/python3.10/site-packages (from requests) (1.26.16)\r\n"
     ]
    }
   ],
   "source": [
    "!pip install requests"
   ]
  },
  {
   "cell_type": "code",
   "execution_count": 5,
   "id": "7aaec6ef",
   "metadata": {},
   "outputs": [
    {
     "name": "stdout",
     "output_type": "stream",
     "text": [
      "{\"alunos\":\"http://127.0.0.1:8000/alunos/\",\"cursos\":\"http://127.0.0.1:8000/cursos/\",\"matriculas\":\"http://127.0.0.1:8000/matriculas/\"}\n"
     ]
    }
   ],
   "source": [
    "import requests\n",
    "\n",
    "url = 'http://127.0.0.1:8000'\n",
    "response = requests.get(url)\n",
    "\n",
    "if response.status_code == 200:\n",
    "    print(response.text)\n",
    "     json_data = response.json()\n",
    "\n",
    "    # Now, json_data contains the JSON response from the API, and you can work with it as a Python dictionary.\n",
    "    print(json_data)\n",
    "else:\n",
    "    print(f\"Request failed with status code {response.status_code}\")\n"
   ]
  }
 ],
 "metadata": {
  "kernelspec": {
   "display_name": "Python 3 (ipykernel)",
   "language": "python",
   "name": "python3"
  },
  "language_info": {
   "codemirror_mode": {
    "name": "ipython",
    "version": 3
   },
   "file_extension": ".py",
   "mimetype": "text/x-python",
   "name": "python",
   "nbconvert_exporter": "python",
   "pygments_lexer": "ipython3",
   "version": "3.10.13"
  }
 },
 "nbformat": 4,
 "nbformat_minor": 5
}
